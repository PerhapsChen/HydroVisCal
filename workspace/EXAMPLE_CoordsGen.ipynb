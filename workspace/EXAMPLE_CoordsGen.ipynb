{
 "cells": [
  {
   "cell_type": "code",
   "execution_count": 1,
   "metadata": {},
   "outputs": [],
   "source": [
    "import numpy as np\n",
    "import pandas as pd"
   ]
  },
  {
   "cell_type": "code",
   "execution_count": 3,
   "metadata": {},
   "outputs": [],
   "source": [
    "def LonCoords(start, end, resolution):\n",
    "    \"\"\"\n",
    "    给定起始和结束以及分辨率生成纬度，例如给了40,50,0.1,\n",
    "    则生成[40.05, .... 49.85, 49.95]共100个。\n",
    "    \"\"\"\n",
    "    assert resolution>0, \"resolution must be positive.\"\n",
    "    if start > end:\n",
    "        print(\"[Warning] Bad for longitude: start > end.\")\n",
    "        S = start - resolution/2\n",
    "        E = end + resolution/2 - 1e-5\n",
    "        R = -resolution\n",
    "    else:\n",
    "        S = start + resolution/2\n",
    "        E = end - resolution/2 + 1e-5\n",
    "        R = resolution\n",
    "    return np.arange(S, E, R)"
   ]
  },
  {
   "cell_type": "code",
   "execution_count": 4,
   "metadata": {},
   "outputs": [],
   "source": [
    "def LatCoords(start, end, resolution):\n",
    "    \"\"\"\n",
    "    给定起始和结束以及分辨率生成经度，例如给了30,20,0.1,\n",
    "    则生成[29.95, 29.85, ..., 20.15, 20.05]共100个。\n",
    "    \"\"\"\n",
    "    assert resolution>0, \"resolution must be positive.\"\n",
    "    if start > end:\n",
    "        S = start - resolution/2\n",
    "        E = end + resolution/2 - 1e-5\n",
    "        R = -resolution\n",
    "    else:\n",
    "        print(\"[Warning] Bad for latitude: start < end.\")\n",
    "        S = start + resolution/2\n",
    "        E = end - resolution/2 + 1e-5\n",
    "        R = resolution\n",
    "    return np.arange(S, E, R)"
   ]
  },
  {
   "cell_type": "code",
   "execution_count": 5,
   "metadata": {},
   "outputs": [],
   "source": [
    "def TimeCoords(start, end, resolution):\n",
    "    \"\"\"\n",
    "    Not recommend.\n",
    "    \"\"\"\n",
    "    return pd.date_range(start=start, end=end, freq=resolution)"
   ]
  },
  {
   "cell_type": "code",
   "execution_count": 6,
   "metadata": {},
   "outputs": [],
   "source": [
    "lon = LonCoords(10, 20, 0.1)"
   ]
  },
  {
   "cell_type": "code",
   "execution_count": 12,
   "metadata": {},
   "outputs": [
    {
     "data": {
      "text/plain": [
       "array([10.05, 10.15, 10.25, 10.35, 10.45, 10.55, 10.65, 10.75, 10.85,\n",
       "       10.95, 11.05, 11.15, 11.25, 11.35, 11.45, 11.55, 11.65, 11.75,\n",
       "       11.85, 11.95, 12.05, 12.15, 12.25, 12.35, 12.45, 12.55, 12.65,\n",
       "       12.75, 12.85, 12.95, 13.05, 13.15, 13.25, 13.35, 13.45, 13.55,\n",
       "       13.65, 13.75, 13.85, 13.95, 14.05, 14.15, 14.25, 14.35, 14.45,\n",
       "       14.55, 14.65, 14.75, 14.85, 14.95, 15.05, 15.15, 15.25, 15.35,\n",
       "       15.45, 15.55, 15.65, 15.75, 15.85, 15.95, 16.05, 16.15, 16.25,\n",
       "       16.35, 16.45, 16.55, 16.65, 16.75, 16.85, 16.95, 17.05, 17.15,\n",
       "       17.25, 17.35, 17.45, 17.55, 17.65, 17.75, 17.85, 17.95, 18.05,\n",
       "       18.15, 18.25, 18.35, 18.45, 18.55, 18.65, 18.75, 18.85, 18.95,\n",
       "       19.05, 19.15, 19.25, 19.35, 19.45, 19.55, 19.65, 19.75, 19.85,\n",
       "       19.95], dtype=float32)"
      ]
     },
     "execution_count": 12,
     "metadata": {},
     "output_type": "execute_result"
    }
   ],
   "source": [
    "lon.astype(np.float32)"
   ]
  },
  {
   "cell_type": "code",
   "execution_count": 23,
   "metadata": {},
   "outputs": [],
   "source": [
    "import numpy as np\n",
    "import xarray as xr\n",
    "\n",
    "\n",
    "def quicklyNetCDF(data, name, time, lat, lon):\n",
    "    \n",
    "    assert len(data.shape) in [2, 3],\\\n",
    "        \"Shape of data must be 2 or 3.\"\n",
    "    if len(data.shape)==2:\n",
    "        assert data.shape == (len(lat), len(lon)),\\\n",
    "            \"Shape for data, lat, lon are not matched.\"\n",
    "            \n",
    "        ds = xr.Dataset( data_vars={ name: (['lat', 'lon'], data) },\n",
    "                         coords={ 'lat': (['lat'], lat),  'lon': (['lon'], lon)} ) \n",
    "    elif len(data.shape)==3:\n",
    "        assert data.shape == (len(time), len(lat), len(lon)),\\\n",
    "            \"Shape for data, time, lat, lon are not matched.\"\n",
    "        ds = xr.Dataset(data_vars={ name: (['time', 'lat', 'lon'], data) },\n",
    "                        coords={'time': time,\n",
    "                                'lat': (['lat'], lat),\n",
    "                                'lon': (['lon'], lon)})\n",
    "    return ds"
   ]
  },
  {
   "cell_type": "code",
   "execution_count": 24,
   "metadata": {},
   "outputs": [],
   "source": [
    "lon = LonCoords(-180, 180, 1)\n",
    "lat = LatCoords(90, -90, 1)\n",
    "time = TimeCoords('2020-01-01', '2020-01-31', 'D')"
   ]
  },
  {
   "cell_type": "code",
   "execution_count": 31,
   "metadata": {},
   "outputs": [],
   "source": [
    "data = np.random.rand(len(time), len(lat), len(lon)).astype(np.float32)"
   ]
  },
  {
   "cell_type": "code",
   "execution_count": 32,
   "metadata": {},
   "outputs": [
    {
     "data": {
      "text/plain": [
       "True"
      ]
     },
     "execution_count": 32,
     "metadata": {},
     "output_type": "execute_result"
    }
   ],
   "source": [
    "(len(time), len(lat), len(lon)) == data.shape"
   ]
  },
  {
   "cell_type": "code",
   "execution_count": null,
   "metadata": {},
   "outputs": [],
   "source": []
  }
 ],
 "metadata": {
  "kernelspec": {
   "display_name": "PERHAPS",
   "language": "python",
   "name": "python3"
  },
  "language_info": {
   "codemirror_mode": {
    "name": "ipython",
    "version": 3
   },
   "file_extension": ".py",
   "mimetype": "text/x-python",
   "name": "python",
   "nbconvert_exporter": "python",
   "pygments_lexer": "ipython3",
   "version": "3.9.15"
  },
  "orig_nbformat": 4
 },
 "nbformat": 4,
 "nbformat_minor": 2
}
