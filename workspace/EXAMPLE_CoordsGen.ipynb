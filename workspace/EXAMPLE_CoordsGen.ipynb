{
 "cells": [
  {
   "cell_type": "code",
   "execution_count": 1,
   "metadata": {},
   "outputs": [],
   "source": [
    "import numpy as np\n",
    "import pandas as pd"
   ]
  },
  {
   "cell_type": "code",
   "execution_count": 19,
   "metadata": {},
   "outputs": [],
   "source": [
    "def LonCoords(start, end, resolution):\n",
    "    \"\"\"\n",
    "    给定起始和结束以及分辨率生成纬度，例如给了40,50,0.1,\n",
    "    则生成[40.05, .... 49.85, 49.95]共100个。\n",
    "    \"\"\"\n",
    "    assert resolution>0, \"resolution must be positive.\"\n",
    "    if start > end:\n",
    "        print(\"[Warning] Bad for longitude: start > end.\")\n",
    "        S = start - resolution/2\n",
    "        E = end + resolution/2 - 1e-5\n",
    "        R = -resolution\n",
    "    else:\n",
    "        S = start + resolution/2\n",
    "        E = end - resolution/2 + 1e-5\n",
    "        R = resolution\n",
    "    return np.arange(S, E, R)"
   ]
  },
  {
   "cell_type": "code",
   "execution_count": 34,
   "metadata": {},
   "outputs": [],
   "source": [
    "def LatCoords(start, end, resolution):\n",
    "    \"\"\"\n",
    "    给定起始和结束以及分辨率生成经度，例如给了30,20,0.1,\n",
    "    则生成[29.95, 29.85, ..., 20.15, 20.05]共100个。\n",
    "    \"\"\"\n",
    "    assert resolution>0, \"resolution must be positive.\"\n",
    "    if start > end:\n",
    "        S = start - resolution/2\n",
    "        E = end + resolution/2 - 1e-5\n",
    "        R = -resolution\n",
    "    else:\n",
    "        print(\"[Warning] Bad for latitude: start < end.\")\n",
    "        S = start + resolution/2\n",
    "        E = end - resolution/2 + 1e-5\n",
    "        R = resolution\n",
    "    return np.arange(S, E, R)"
   ]
  },
  {
   "cell_type": "code",
   "execution_count": null,
   "metadata": {},
   "outputs": [],
   "source": [
    "def TimeCoords(start, end, resolution):\n",
    "    \"\"\"\n",
    "    Not recommend.\n",
    "    \"\"\"\n",
    "    return pd.date_range(start=start, end=end, freq=resolution)"
   ]
  },
  {
   "cell_type": "code",
   "execution_count": null,
   "metadata": {},
   "outputs": [],
   "source": []
  }
 ],
 "metadata": {
  "kernelspec": {
   "display_name": "PERHAPS",
   "language": "python",
   "name": "python3"
  },
  "language_info": {
   "codemirror_mode": {
    "name": "ipython",
    "version": 3
   },
   "file_extension": ".py",
   "mimetype": "text/x-python",
   "name": "python",
   "nbconvert_exporter": "python",
   "pygments_lexer": "ipython3",
   "version": "3.9.15"
  },
  "orig_nbformat": 4
 },
 "nbformat": 4,
 "nbformat_minor": 2
}
