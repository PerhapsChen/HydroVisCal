{
 "cells": [
  {
   "cell_type": "code",
   "execution_count": 1,
   "metadata": {},
   "outputs": [],
   "source": [
    "import sys\n",
    "sys.path.append('C:\\\\Users\\\\45162.CPHXR9000K\\\\Desktop\\\\PerhapsNotes\\\\HydroVisCal\\\\scripts')"
   ]
  },
  {
   "cell_type": "code",
   "execution_count": 2,
   "metadata": {},
   "outputs": [],
   "source": [
    "from HYDRO_generator import GenerateDataset\n",
    "from HYDRO_plot import ColorBarFromFig"
   ]
  },
  {
   "cell_type": "code",
   "execution_count": 3,
   "metadata": {},
   "outputs": [],
   "source": [
    "gen = GenerateDataset()\n",
    "gen.SaveAsNetCDF('../data/e2.nc')"
   ]
  },
  {
   "cell_type": "code",
   "execution_count": 7,
   "metadata": {},
   "outputs": [
    {
     "data": {
      "image/png": "[encoded data removed]",
      "text/html": [
       "<div style=\"vertical-align: middle;\"><strong>hydro</strong> </div><div class=\"cmap\"><img alt=\"hydro colormap\" title=\"hydro\" style=\"border: 1px solid #555;\" src=\"data:image/png;base64,iVBORw0KGgoAAAANSUhEUgAAAgAAAABACAYAAABsv8+/AAAAFHRFWHRUaXRsZQBoeWRybyBjb2xvcm1hcB1CrjYAAAAadEVYdERlc2NyaXB0aW9uAGh5ZHJvIGNvbG9ybWFw4x0H0AAAADB0RVh0QXV0aG9yAE1hdHBsb3RsaWIgdjMuNy4xLCBodHRwczovL21hdHBsb3RsaWIub3JnKq/4TQAAADJ0RVh0U29mdHdhcmUATWF0cGxvdGxpYiB2My43LjEsIGh0dHBzOi8vbWF0cGxvdGxpYi5vcmcECWdqAAABWUlEQVR4nO3WsbEBQAAAUTTwRwkSGvipwGhKBRoh0pFULNABTRg3c/teBRvu8n97ei/4ur/DeXTCdO7Hx+iE6ew2t9EJ07m+LqMTprPeP0cnTGk1OgAA+D0DAABBBgAAggwAAAQZAAAIMgAAEGQAACDIAABAkAEAgCADAABBBgAAggwAAAQZAAAIMgAAEGQAACDIAABAkAEAgCADAABBBgAAggwAAAQZAAAIMgAAEGQAACDIAABAkAEAgCADAABBBgAAggwAAAQZAAAIMgAAEGQAACDIAABAkAEAgCADAABBBgAAggwAAAQZAAAIMgAAEGQAACDIAABAkAEAgCADAABBBgAAggwAAAQZAAAIMgAAEGQAACDIAABAkAEAgCADAABBBgAAggwAAAQZAAAIMgAAEGQAACDIAABAkAEAgCADAABBBgAAggwAAAQZAAAIMgAAEGQAACDoAx+2CYjYv966AAAAAElFTkSuQmCC\"></div><div style=\"vertical-align: middle; max-width: 514px; display: flex; justify-content: space-between;\"><div style=\"float: left;\"><div title=\"#342678ff\" style=\"display: inline-block; width: 1em; height: 1em; margin: 0; vertical-align: middle; border: 1px solid #555; background-color: #342678ff;\"></div> under</div><div style=\"margin: 0 auto; display: inline-block;\">bad <div title=\"#00000000\" style=\"display: inline-block; width: 1em; height: 1em; margin: 0; vertical-align: middle; border: 1px solid #555; background-color: #00000000;\"></div></div><div style=\"float: right;\">over <div title=\"#f8f819ff\" style=\"display: inline-block; width: 1em; height: 1em; margin: 0; vertical-align: middle; border: 1px solid #555; background-color: #f8f819ff;\"></div></div>"
      ],
      "text/plain": [
       "<matplotlib.colors.ListedColormap at 0x1773843eb80>"
      ]
     },
     "execution_count": 7,
     "metadata": {},
     "output_type": "execute_result"
    }
   ],
   "source": [
    "cbar = ColorBarFromFig('../fig/blue_yellow.png', 6)\n",
    "cbar.getColorBar()"
   ]
  },
  {
   "cell_type": "code",
   "execution_count": 8,
   "metadata": {},
   "outputs": [
    {
     "data": {
      "image/png": "[encoded data removed]",
      "text/html": [
       "<div style=\"vertical-align: middle;\"><strong>hydro</strong> </div><div class=\"cmap\"><img alt=\"hydro colormap\" title=\"hydro\" style=\"border: 1px solid #555;\" src=\"data:image/png;base64,iVBORw0KGgoAAAANSUhEUgAAAgAAAABACAYAAABsv8+/AAAAFHRFWHRUaXRsZQBoeWRybyBjb2xvcm1hcB1CrjYAAAAadEVYdERlc2NyaXB0aW9uAGh5ZHJvIGNvbG9ybWFw4x0H0AAAADB0RVh0QXV0aG9yAE1hdHBsb3RsaWIgdjMuNy4xLCBodHRwczovL21hdHBsb3RsaWIub3JnKq/4TQAAADJ0RVh0U29mdHdhcmUATWF0cGxvdGxpYiB2My43LjEsIGh0dHBzOi8vbWF0cGxvdGxpYi5vcmcECWdqAAADbklEQVR4nO3WUW7rNhAF0DuiUryV9L9AF9e1t7GmH5JtSU43UJ4DGDFFckTaFnPrz9//6l/1R1IjIyO7JaklT1UjqZH3hWW/dmkvx9jlmL+e+uvVn6O/qo5bjaR7/3upd5qfJONcL9d6z1pJspzaVccrqeW9nx/Hjh/6f6y3v+2lfh57v15Jj3O7XvV6ede729Zrx7bkMnYbleok6ddatuUYd9J1vba3+6Pdt3X06HSdxh1zqt/vn/vLs12nOUt/7q06x6L3cXWal3fNbZzvu73Gd3WWXrId195rvbZf6z2v81jrc32dXPdXnRyf03af97z/x/V+je3qj3pbXdf19/L9UTdJttqyHft/VGe71+q91n3fSZJXzc5Sn/2jHllqS3cl1fmqLSN9+WpGOuM097f6vtXY8lWPy7VKZ0mnjtf53pVOndpLtmt/depUb59/bY/65/N+tb3vd9Ss0+9mzXeWXL+jtR4Z2Y59PrLk+hmteWQ93XvNI0lnzeNVu472XmN71+vtVW+c+tfc9p4tX/19W+tjf3SyZe3HMbYzep/7ldv4fqSyvb63r77uZe29r9Kp3vLVW7ZUxlFjH/+uN/r93Y3u4/7J2tfPr5J83R739Tgslk5GVx7VWbPsZ0M6I0tGV+r0K1t6yXJuZ2Q5Hrhx/K1URm7nfpK1ls+jpJLldoZ8PO9Jsj4+r1UntV3HP8+G+9mW51l1O2fqfg5ez4eu/Qw9++ls7NHJsY3L+OpkfO6nxrHuzvV8rU5u52CN094rqR/Oj//4rwcA/J8JAAAwIQEAACYkAADAhAQAAJiQAAAAExIAAGBCAgAATEgAAIAJCQAAMCEBAAAmJAAAwIQEAACYkAAAABMSAABgQgIAAExIAACACQkAADAhAQAAJiQAAMCEBAAAmJAAAAATEgAAYEICAABMSAAAgAkJAAAwIQEAACYkAADAhAQAAJiQAAAAExIAAGBCAgAATEgAAIAJCQAAMCEBAAAmJAAAwIQEAACYkAAAABMSAABgQgIAAExIAACACQkAADAhAQAAJiQAAMCEBAAAmJAAAAATEgAAYEICAABMSAAAgAkJAAAwIQEAACYkAADAhAQAAJiQAAAAExIAAGBCAgAATEgAAIAJCQAAMCEBAAAmJAAAwIQEAACYkAAAABMSAABgQv8C+NYBl4AL6fYAAAAASUVORK5CYII=\"></div><div style=\"vertical-align: middle; max-width: 514px; display: flex; justify-content: space-between;\"><div style=\"float: left;\"><div title=\"#342678ff\" style=\"display: inline-block; width: 1em; height: 1em; margin: 0; vertical-align: middle; border: 1px solid #555; background-color: #342678ff;\"></div> under</div><div style=\"margin: 0 auto; display: inline-block;\">bad <div title=\"#00000000\" style=\"display: inline-block; width: 1em; height: 1em; margin: 0; vertical-align: middle; border: 1px solid #555; background-color: #00000000;\"></div></div><div style=\"float: right;\">over <div title=\"#f8f819ff\" style=\"display: inline-block; width: 1em; height: 1em; margin: 0; vertical-align: middle; border: 1px solid #555; background-color: #f8f819ff;\"></div></div>"
      ],
      "text/plain": [
       "<matplotlib.colors.ListedColormap at 0x1773843ec10>"
      ]
     },
     "execution_count": 8,
     "metadata": {},
     "output_type": "execute_result"
    }
   ],
   "source": [
    "cbar = ColorBarFromFig('../fig/blue_yellow.png', -1)\n",
    "cbar.getColorBar()"
   ]
  },
  {
   "cell_type": "code",
   "execution_count": null,
   "metadata": {},
   "outputs": [],
   "source": []
  }
 ],
 "metadata": {
  "kernelspec": {
   "display_name": "PERHAPS",
   "language": "python",
   "name": "python3"
  },
  "language_info": {
   "codemirror_mode": {
    "name": "ipython",
    "version": 3
   },
   "file_extension": ".py",
   "mimetype": "text/x-python",
   "name": "python",
   "nbconvert_exporter": "python",
   "pygments_lexer": "ipython3",
   "version": "3.9.15"
  },
  "orig_nbformat": 4
 },
 "nbformat": 4,
 "nbformat_minor": 2
}
