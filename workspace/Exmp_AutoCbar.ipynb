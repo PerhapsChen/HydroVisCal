{
 "cells": [
  {
   "cell_type": "code",
   "execution_count": 1,
   "metadata": {},
   "outputs": [],
   "source": [
    "import sys\n",
    "sys.path.append('../scripts')\n",
    "\n",
    "from HYDRO_plot import ColorBarFromFig"
   ]
  },
  {
   "cell_type": "code",
   "execution_count": 2,
   "metadata": {},
   "outputs": [
    {
     "data": {
      "image/png": "[encoded data removed]",
      "text/html": [
       "<div style=\"vertical-align: middle;\"><strong>hydro</strong> </div><div class=\"cmap\"><img alt=\"hydro colormap\" title=\"hydro\" style=\"border: 1px solid #555;\" src=\"data:image/png;base64,iVBORw0KGgoAAAANSUhEUgAAAgAAAABACAYAAABsv8+/AAAAFHRFWHRUaXRsZQBoeWRybyBjb2xvcm1hcB1CrjYAAAAadEVYdERlc2NyaXB0aW9uAGh5ZHJvIGNvbG9ybWFw4x0H0AAAADB0RVh0QXV0aG9yAE1hdHBsb3RsaWIgdjMuNy4xLCBodHRwczovL21hdHBsb3RsaWIub3JnKq/4TQAAADJ0RVh0U29mdHdhcmUATWF0cGxvdGxpYiB2My43LjEsIGh0dHBzOi8vbWF0cGxvdGxpYi5vcmcECWdqAAABWUlEQVR4nO3WsbEBQAAAUTTwRwkSGvipwGhKBRoh0pFULNABTRg3c/teBRvu8n97ei/4ur/DeXTCdO7Hx+iE6ew2t9EJ07m+LqMTprPeP0cnTGk1OgAA+D0DAABBBgAAggwAAAQZAAAIMgAAEGQAACDIAABAkAEAgCADAABBBgAAggwAAAQZAAAIMgAAEGQAACDIAABAkAEAgCADAABBBgAAggwAAAQZAAAIMgAAEGQAACDIAABAkAEAgCADAABBBgAAggwAAAQZAAAIMgAAEGQAACDIAABAkAEAgCADAABBBgAAggwAAAQZAAAIMgAAEGQAACDIAABAkAEAgCADAABBBgAAggwAAAQZAAAIMgAAEGQAACDIAABAkAEAgCADAABBBgAAggwAAAQZAAAIMgAAEGQAACDIAABAkAEAgCADAABBBgAAggwAAAQZAAAIMgAAEGQAACDoAx+2CYjYv966AAAAAElFTkSuQmCC\"></div><div style=\"vertical-align: middle; max-width: 514px; display: flex; justify-content: space-between;\"><div style=\"float: left;\"><div title=\"#342678ff\" style=\"display: inline-block; width: 1em; height: 1em; margin: 0; vertical-align: middle; border: 1px solid #555; background-color: #342678ff;\"></div> under</div><div style=\"margin: 0 auto; display: inline-block;\">bad <div title=\"#00000000\" style=\"display: inline-block; width: 1em; height: 1em; margin: 0; vertical-align: middle; border: 1px solid #555; background-color: #00000000;\"></div></div><div style=\"float: right;\">over <div title=\"#f8f819ff\" style=\"display: inline-block; width: 1em; height: 1em; margin: 0; vertical-align: middle; border: 1px solid #555; background-color: #f8f819ff;\"></div></div>"
      ],
      "text/plain": [
       "<matplotlib.colors.ListedColormap at 0x20647116b20>"
      ]
     },
     "execution_count": 2,
     "metadata": {},
     "output_type": "execute_result"
    }
   ],
   "source": [
    "cbar = ColorBarFromFig('../fig/blue_yellow.png', 6)\n",
    "cbar.getColorBar()"
   ]
  },
  {
   "cell_type": "code",
   "execution_count": 3,
   "metadata": {},
   "outputs": [
    {
     "data": {
      "image/png": "[encoded data removed]",
      "text/html": [
       "<div style=\"vertical-align: middle;\"><strong>hydro</strong> </div><div class=\"cmap\"><img alt=\"hydro colormap\" title=\"hydro\" style=\"border: 1px solid #555;\" src=\"data:image/png;base64,iVBORw0KGgoAAAANSUhEUgAAAgAAAABACAYAAABsv8+/AAAAFHRFWHRUaXRsZQBoeWRybyBjb2xvcm1hcB1CrjYAAAAadEVYdERlc2NyaXB0aW9uAGh5ZHJvIGNvbG9ybWFw4x0H0AAAADB0RVh0QXV0aG9yAE1hdHBsb3RsaWIgdjMuNy4xLCBodHRwczovL21hdHBsb3RsaWIub3JnKq/4TQAAADJ0RVh0U29mdHdhcmUATWF0cGxvdGxpYiB2My43LjEsIGh0dHBzOi8vbWF0cGxvdGxpYi5vcmcECWdqAAADe0lEQVR4nO3WbZLjKBYF0Ptw9SJm/wua7VRMGl7/kD8ku7oXMJwTkZES4AfINr71+/d/Oh96jeTU2vN2HTBH0nUakKSSrErP8VkumXUZX7OO2zquXzXWcV3n2o/xdVpPrY96qy7rrXms/1XnvMNVR/tHW/pjT0/323fbef6urK70x1PsJPdeXy+duacfk88c/SsrK/NdPp1V79d2OrM6MyuV49nds3Lryqx+Prbcqy/b+vnY5jGm8qw8q9I5/ma9975S+anbY42Vkc5PjXSNx/jkXuM0frzGd5LOyL3ez61T+cmvx5wjK/VYyy0r46iXj/H1KysjK+957hmZj/v5GL8yMuvZ9u6/55Z+zNOpR/26zHPv2+X+VS+3V717f/ZX7o+9PGuvHo991Ov+OffT7L8ubatvl/vuW7rP/de990fN5xydynr8P/vpW2Zfv4v/6/e6Z4/M8/w53uufx/egqrN6ZPb353/1SJ6vXb+++scaGT1Sp89UdWV05fbY40hl9PdZ8de6pT72MnpczoTqet2PVe+1PPtXfZ0h77FJVr7rna6/vjSrjjPmQ32cdWONrFqX9dV6jxnzNGeuZ0idrr/Ooc+z8dn/ee6tenWd11td73P21XY8j/O5+n2fy/2zbaznHMfB35WMef7BeI95ve7+9TPzGnvUSdKd80FaM394LzpZ3+fqu0beNfrPY5Mkc/3rmF7rXeuf6nUnjzO+e13XOu/Xen1/jT32MZOq43+S7k6yPuqdn+k9yTraX/2n34ie1/o9j7b3ho76SWZm0jO/+7/5w681APD/TgAAgA0JAACwIQEAADYkAADAhgQAANiQAAAAGxIAAGBDAgAAbEgAAIANCQAAsCEBAAA2JAAAwIYEAADYkAAAABsSAABgQwIAAGxIAACADQkAALAhAQAANiQAAMCGBAAA2JAAAAAbEgAAYEMCAABsSAAAgA0JAACwIQEAADYkAADAhgQAANiQAAAAGxIAAGBDAgAAbEgAAIANCQAAsCEBAAA2JAAAwIYEAADYkAAAABsSAABgQwIAAGxIAACADQkAALAhAQAANiQAAMCGBAAA2JAAAAAbEgAAYEMCAABsSAAAgA0JAACwIQEAADYkAADAhgQAANiQAAAAGxIAAGBDAgAAbEgAAIANCQAAsCEBAAA2JAAAwIYEAADYkAAAABv6G0wLYWD0B6XfAAAAAElFTkSuQmCC\"></div><div style=\"vertical-align: middle; max-width: 514px; display: flex; justify-content: space-between;\"><div style=\"float: left;\"><div title=\"#f8f819ff\" style=\"display: inline-block; width: 1em; height: 1em; margin: 0; vertical-align: middle; border: 1px solid #555; background-color: #f8f819ff;\"></div> under</div><div style=\"margin: 0 auto; display: inline-block;\">bad <div title=\"#00000000\" style=\"display: inline-block; width: 1em; height: 1em; margin: 0; vertical-align: middle; border: 1px solid #555; background-color: #00000000;\"></div></div><div style=\"float: right;\">over <div title=\"#342678ff\" style=\"display: inline-block; width: 1em; height: 1em; margin: 0; vertical-align: middle; border: 1px solid #555; background-color: #342678ff;\"></div></div>"
      ],
      "text/plain": [
       "<matplotlib.colors.ListedColormap at 0x20646f41550>"
      ]
     },
     "execution_count": 3,
     "metadata": {},
     "output_type": "execute_result"
    }
   ],
   "source": [
    "cbar = ColorBarFromFig('../fig/blue_yellow.png', piece= -1, reverse=True)\n",
    "cbar.getColorBar()"
   ]
  }
 ],
 "metadata": {
  "kernelspec": {
   "display_name": "PERHAPS",
   "language": "python",
   "name": "python3"
  },
  "language_info": {
   "codemirror_mode": {
    "name": "ipython",
    "version": 3
   },
   "file_extension": ".py",
   "mimetype": "text/x-python",
   "name": "python",
   "nbconvert_exporter": "python",
   "pygments_lexer": "ipython3",
   "version": "3.9.15"
  },
  "orig_nbformat": 4,
  "vscode": {
   "interpreter": {
    "hash": "7ba186677675d0b0434b4e8d66c7e6a6e6852c12d0dcb57bd9e59f553ab422a6"
   }
  }
 },
 "nbformat": 4,
 "nbformat_minor": 2
}
