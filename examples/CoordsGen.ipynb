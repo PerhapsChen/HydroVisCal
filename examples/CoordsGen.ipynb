{
 "cells": [
  {
   "cell_type": "code",
   "execution_count": 5,
   "metadata": {},
   "outputs": [],
   "source": [
    "import sys\n",
    "sys.path.append('../scripts/')"
   ]
  },
  {
   "cell_type": "code",
   "execution_count": 6,
   "metadata": {},
   "outputs": [],
   "source": [
    "from HYDRO_Generator.CoordsGen import LatCoords, LonCoords"
   ]
  },
  {
   "cell_type": "code",
   "execution_count": 7,
   "metadata": {},
   "outputs": [
    {
     "data": {
      "text/plain": [
       "array([40.05, 40.15, 40.25, 40.35, 40.45, 40.55, 40.65, 40.75, 40.85,\n",
       "       40.95, 41.05, 41.15, 41.25, 41.35, 41.45, 41.55, 41.65, 41.75,\n",
       "       41.85, 41.95, 42.05, 42.15, 42.25, 42.35, 42.45, 42.55, 42.65,\n",
       "       42.75, 42.85, 42.95, 43.05, 43.15, 43.25, 43.35, 43.45, 43.55,\n",
       "       43.65, 43.75, 43.85, 43.95, 44.05, 44.15, 44.25, 44.35, 44.45,\n",
       "       44.55, 44.65, 44.75, 44.85, 44.95, 45.05, 45.15, 45.25, 45.35,\n",
       "       45.45, 45.55, 45.65, 45.75, 45.85, 45.95, 46.05, 46.15, 46.25,\n",
       "       46.35, 46.45, 46.55, 46.65, 46.75, 46.85, 46.95, 47.05, 47.15,\n",
       "       47.25, 47.35, 47.45, 47.55, 47.65, 47.75, 47.85, 47.95, 48.05,\n",
       "       48.15, 48.25, 48.35, 48.45, 48.55, 48.65, 48.75, 48.85, 48.95,\n",
       "       49.05, 49.15, 49.25, 49.35, 49.45, 49.55, 49.65, 49.75, 49.85,\n",
       "       49.95])"
      ]
     },
     "execution_count": 7,
     "metadata": {},
     "output_type": "execute_result"
    }
   ],
   "source": [
    "LonCoords(40, 50, 0.1)"
   ]
  },
  {
   "cell_type": "code",
   "execution_count": 10,
   "metadata": {},
   "outputs": [
    {
     "data": {
      "text/plain": [
       "array([9.95, 9.85, 9.75, 9.65, 9.55, 9.45, 9.35, 9.25, 9.15, 9.05, 8.95,\n",
       "       8.85, 8.75, 8.65, 8.55, 8.45, 8.35, 8.25, 8.15, 8.05, 7.95, 7.85,\n",
       "       7.75, 7.65, 7.55, 7.45, 7.35, 7.25, 7.15, 7.05, 6.95, 6.85, 6.75,\n",
       "       6.65, 6.55, 6.45, 6.35, 6.25, 6.15, 6.05, 5.95, 5.85, 5.75, 5.65,\n",
       "       5.55, 5.45, 5.35, 5.25, 5.15, 5.05, 4.95, 4.85, 4.75, 4.65, 4.55,\n",
       "       4.45, 4.35, 4.25, 4.15, 4.05, 3.95, 3.85, 3.75, 3.65, 3.55, 3.45,\n",
       "       3.35, 3.25, 3.15, 3.05, 2.95, 2.85, 2.75, 2.65, 2.55, 2.45, 2.35,\n",
       "       2.25, 2.15, 2.05, 1.95, 1.85, 1.75, 1.65, 1.55, 1.45, 1.35, 1.25,\n",
       "       1.15, 1.05, 0.95, 0.85, 0.75, 0.65, 0.55, 0.45, 0.35, 0.25, 0.15,\n",
       "       0.05])"
      ]
     },
     "execution_count": 10,
     "metadata": {},
     "output_type": "execute_result"
    }
   ],
   "source": [
    "LatCoords(10, 0, 0.1)"
   ]
  },
  {
   "cell_type": "code",
   "execution_count": null,
   "metadata": {},
   "outputs": [],
   "source": []
  }
 ],
 "metadata": {
  "kernelspec": {
   "display_name": "PERHAPS",
   "language": "python",
   "name": "python3"
  },
  "language_info": {
   "codemirror_mode": {
    "name": "ipython",
    "version": 3
   },
   "file_extension": ".py",
   "mimetype": "text/x-python",
   "name": "python",
   "nbconvert_exporter": "python",
   "pygments_lexer": "ipython3",
   "version": "3.8.13"
  },
  "orig_nbformat": 4
 },
 "nbformat": 4,
 "nbformat_minor": 2
}
